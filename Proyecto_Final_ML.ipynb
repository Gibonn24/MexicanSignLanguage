{
  "cells": [
    {
      "cell_type": "markdown",
      "metadata": {
        "colab_type": "text",
        "id": "view-in-github"
      },
      "source": [
        "<a href=\"https://colab.research.google.com/github/Gibonn24/MexicanSignLanguage/blob/main/Proyecto_Final_ML.ipynb\" target=\"_parent\"><img src=\"https://colab.research.google.com/assets/colab-badge.svg\" alt=\"Open In Colab\"/></a>"
      ]
    },
    {
      "cell_type": "markdown",
      "id": "0f192134",
      "metadata": {
        "id": "0f192134"
      },
      "source": [
        "# Traductor de Lenguaje de Señas a Texto\n",
        "\n",
        "**Proyecto Final – Machine Learning**\n",
        "\n",
        "\n",
        "\n",
        "---\n",
        "\n",
        "## 1. Integrantes\n",
        "| Nombre | % de contribución |\n",
        "|--------|-------------------|\n",
        "| Giordano Fuentes | 100% |\n",
        "\n",
        "> Ajusta la tabla según corresponda."
      ]
    },
    {
      "cell_type": "markdown",
      "id": "577a0873",
      "metadata": {
        "id": "577a0873"
      },
      "source": [
        "## 2. Introducción\n",
        "\n",
        "\n",
        "> La comunicación entre personas sordas y oyentes sigue siendo una barrera. Este proyecto busca traducir automáticamente videos de Lengua de Señas a texto en español, usando aprendizaje profundo y visión computacional, para facilitar la inclusión."
      ]
    },
    {
      "cell_type": "markdown",
      "id": "6d75dbc8",
      "metadata": {
        "id": "6d75dbc8"
      },
      "source": []
    },
    {
      "cell_type": "code",
      "execution_count": 1,
      "id": "25b7f28b",
      "metadata": {
        "id": "25b7f28b"
      },
      "outputs": [],
      "source": [
        "#Se encuentra en (\"./notebooks/EDA_dynamics.ipynb\") y (\"./notebooks/EDA_letters.ipynb\")"
      ]
    },
    {
      "cell_type": "markdown",
      "id": "cbd42751",
      "metadata": {
        "id": "cbd42751"
      },
      "source": [
        "## 4. Metodología\n",
        "Describe la arquitectura general:\n",
        "1. **Extracción de características** con un modelo preentrenado (p.ej. *I3D* / *S3D*) usando [`video_features`](https://github.com/v-iashin/video_features).\n",
        "2. **Modelo de traducción** secuencia–a–secuencia (GRU/Transformer) que mapea embeddings de video → texto (glosas o frases).\n",
        "3. **Pérdida** CTC o CrossEntropy según alineación.\n",
        "\n",
        "Incluye un diagrama opcional."
      ]
    },
    {
      "cell_type": "code",
      "execution_count": 2,
      "id": "d5cebc69",
      "metadata": {
        "id": "d5cebc69"
      },
      "outputs": [
        {
          "data": {
            "text/plain": [
              "'NVIDIA GeForce GTX 1660 Ti'"
            ]
          },
          "execution_count": 2,
          "metadata": {},
          "output_type": "execute_result"
        }
      ],
      "source": [
        "from models.r21d.extract_r21d import ExtractR21D\n",
        "from utils.utils import build_cfg_path\n",
        "from omegaconf import OmegaConf\n",
        "import pandas as pd\n",
        "import os\n",
        "import glob\n",
        "import numpy as np\n",
        "import torch\n",
        "from pyprojroot import here\n",
        "from pathlib import Path\n",
        "import random\n",
        "SEED = 42\n",
        "random.seed(SEED)\n",
        "np.random.seed(SEED)\n",
        "torch.manual_seed(SEED)\n",
        "if torch.cuda.is_available():\n",
        "    torch.cuda.manual_seed_all(SEED)\n",
        "device = 'cuda' if torch.cuda.is_available() else 'cpu'\n",
        "torch.cuda.get_device_name(0)"
      ]
    },
    {
      "cell_type": "code",
      "execution_count": 3,
      "id": "458cffd2",
      "metadata": {},
      "outputs": [
        {
          "name": "stdout",
          "output_type": "stream",
          "text": [
            "PyAV: 12.2.0\n",
            "TorchVision: 0.20.1+cu121\n"
          ]
        }
      ],
      "source": [
        "import av, torchvision, sys, importlib.metadata\n",
        "print(\"PyAV:\", av.__version__)              # debería mostrar 14.4.0\n",
        "print(\"TorchVision:\", torchvision.__version__)\n"
      ]
    },
    {
      "cell_type": "code",
      "execution_count": 4,
      "id": "d87eba88",
      "metadata": {},
      "outputs": [
        {
          "name": "stderr",
          "output_type": "stream",
          "text": [
            "c:\\Users\\User\\Documents\\ML\\venv\\Lib\\site-packages\\torchvision\\io\\video.py:169: UserWarning: The pts_unit 'pts' gives wrong results. Please use pts_unit 'sec'.\n",
            "  warnings.warn(\"The pts_unit 'pts' gives wrong results. Please use pts_unit 'sec'.\")\n"
          ]
        },
        {
          "name": "stdout",
          "output_type": "stream",
          "text": [
            "torch.Size([57, 900, 900, 3]) {'video_fps': 30.0}\n"
          ]
        }
      ],
      "source": [
        "from torchvision.io import read_video\n",
        "rgb, _, info = read_video(\"C:/Users/User/Documents/ML/data/letters/dynamics/J/S1-J-perfil-1.mp4\")\n",
        "print(rgb.shape, info)"
      ]
    },
    {
      "cell_type": "code",
      "execution_count": 5,
      "id": "1a73980e",
      "metadata": {},
      "outputs": [
        {
          "name": "stderr",
          "output_type": "stream",
          "text": [
            "Using cache found in C:\\Users\\User/.cache\\torch\\hub\\moabitcoin_ig65m-pytorch_master\n"
          ]
        }
      ],
      "source": [
        "from omegaconf import OmegaConf\n",
        "from utils.utils import build_cfg_path\n",
        "from models.r21d.extract_r21d import ExtractR21D\n",
        "\n",
        "# Cargar config base\n",
        "args = OmegaConf.load(build_cfg_path(\"r21d\"))\n",
        "args.feature_type     = \"r21d\"\n",
        "args.model_name       = \"r2plus1d_34_8_ig65m_ft_kinetics\"\n",
        "args.stack_size       = 8\n",
        "args.step_size        = 8\n",
        "args.extraction_fps   = 15          # normaliza todos los vídeos\n",
        "args.tmp_path         = \"tmp\"\n",
        "args.output_path      = \"feats\"\n",
        "args.on_extraction    = \"return\"    # o 'save_numpy'\n",
        "args.device           = \"cuda:0\"    # o 'cpu'\n",
        "args.show_pred        = False\n",
        "\n",
        "extractor = ExtractR21D(args)\n"
      ]
    },
    {
      "cell_type": "code",
      "execution_count": 6,
      "id": "e6134662",
      "metadata": {},
      "outputs": [],
      "source": [
        "import torch\n",
        "from torch.utils.data import Dataset, DataLoader\n",
        "from torchvision import transforms\n",
        "from PIL import Image\n",
        "import pandas as pd\n",
        "\n",
        "class CSVDataset(torch.utils.data.Dataset):\n",
        "    def __init__(self, csv_path, transform=None, class_to_idx=None):\n",
        "        self.data = pd.read_csv(csv_path)\n",
        "        self.transform = transform\n",
        "\n",
        "        # Si no se pasa mapeo externo, lo construye con las etiquetas del CSV\n",
        "        if class_to_idx is None:\n",
        "            classes = sorted(self.data[\"label\"].unique())\n",
        "            class_to_idx = {cls: idx for idx, cls in enumerate(classes)}\n",
        "\n",
        "        self.class_to_idx = class_to_idx\n",
        "\n",
        "    def __len__(self):\n",
        "        return len(self.data)\n",
        "\n",
        "    def __getitem__(self, idx):\n",
        "        row = self.data.iloc[idx]\n",
        "        img = Image.open(row[\"image_path\"]).convert(\"RGB\")\n",
        "        if self.transform:\n",
        "            img = self.transform(img)\n",
        "        label = self.class_to_idx[row[\"label\"]]\n",
        "        return img, label\n",
        "    \n",
        "all_labels = pd.concat([\n",
        "    pd.read_csv(\"letter_labels.csv\")['label'],\n",
        "    pd.read_csv(\"dynamics_videos.csv\")['label']\n",
        "]).unique()\n",
        "\n",
        "class_to_idx = {cls: idx for idx, cls in enumerate(sorted(all_labels))}\n",
        "\n",
        "# Transformaciones igual que antes\n",
        "tfm = transforms.Compose([\n",
        "    transforms.Resize(128),\n",
        "    transforms.CenterCrop(112),\n",
        "    transforms.ToTensor(),\n",
        "    transforms.Normalize([0.43216,0.39466,0.37645],\n",
        "                         [0.22803,0.22145,0.21698]),\n",
        "])\n",
        "\n",
        "ds_static  = CSVDataset(\"letter_labels.csv\",  tfm,   class_to_idx)\n",
        "# 1. Split reproducible 80/10/10\n",
        "from torch.utils.data import random_split, DataLoader\n",
        "N = len(ds_static)\n",
        "train_len = int(0.8*N); val_len = int(0.1*N); test_len = N - train_len - val_len\n",
        "\n",
        "train_s, val_s, test_s = random_split(\n",
        "    ds_static, [train_len, val_len, test_len],\n",
        "    generator=torch.Generator().manual_seed(42)\n",
        ")\n",
        "\n",
        "# 2. DataLoaders\n",
        "dl_train = DataLoader(train_s, batch_size=64, shuffle=True, num_workers=0)\n",
        "dl_val   = DataLoader(val_s,   batch_size=64, shuffle=False, num_workers=0)\n",
        "dl_test  = DataLoader(test_s,  batch_size=64, shuffle=False, num_workers=0)\n",
        "# Modelo ResNet adaptado\n",
        "from torchvision import models\n",
        "import torch.nn as nn\n",
        "# Cargar modelo preentrenado y adaptarlo\n",
        "model_img = models.resnet18(weights=\"IMAGENET1K_V1\")\n",
        "model_img.fc = nn.Linear(model_img.fc.in_features, 27)\n",
        "model_img = model_img.to(\"cuda\" if torch.cuda.is_available() else \"cpu\")"
      ]
    },
    {
      "cell_type": "code",
      "execution_count": 11,
      "id": "03d15eaf",
      "metadata": {},
      "outputs": [
        {
          "name": "stdout",
          "output_type": "stream",
          "text": [
            "Número de clases: 27\n"
          ]
        }
      ],
      "source": [
        "# 1) fuera de la clase, una sola vez\n",
        "n_classes = len(class_to_idx)          # normalmente 27\n",
        "print(\"Número de clases:\", n_classes)  # <- solo para confirmar\n",
        "\n",
        "# 2) definición del dataset de vídeos\n",
        "class VideoCSVDataset(torch.utils.data.Dataset):\n",
        "    \"\"\"\n",
        "    Dataset que lee rutas de vídeo y etiquetas desde un CSV y\n",
        "    extrae las características (embeddings) con un extractor 3D-CNN.\n",
        "\n",
        "    El CSV debe tener las columnas:\n",
        "        video_path,label\n",
        "    \"\"\"\n",
        "\n",
        "    def __init__(self, csv_path: str, extractor, class_to_idx: dict):\n",
        "        self.data = pd.read_csv(csv_path)\n",
        "        self.extractor = extractor\n",
        "        self.class_to_idx = class_to_idx    # mapeo único letra → índice\n",
        "\n",
        "    def __len__(self):\n",
        "        return len(self.data)\n",
        "\n",
        "    def __getitem__(self, idx):\n",
        "        row = self.data.iloc[idx]\n",
        "        video_path = row[\"video_path\"]\n",
        "\n",
        "        # embeddings (stacks, 512)\n",
        "        feats = self.extractor.extract(video_path)[\"r21d\"]\n",
        "\n",
        "        # pooling temporal → vector (512,)\n",
        "        feats = torch.tensor(feats, dtype=torch.float32).mean(0)\n",
        "\n",
        "        label = self.class_to_idx[row[\"label\"]]\n",
        "        return feats, label\n",
        "    \n",
        "# 0. Instancia del extractor R21D (ya lo tienes)\n",
        "ds_dynamic = VideoCSVDataset(\"dynamics_videos.csv\", extractor, class_to_idx)\n",
        "\n",
        "# 1. Split\n",
        "M = len(ds_dynamic)\n",
        "tr_len = int(0.8*M); va_len = int(0.1*M); te_len = M - tr_len - va_len\n",
        "\n",
        "video_train, video_val, video_test = random_split(\n",
        "    ds_dynamic, [tr_len, va_len, te_len],\n",
        "    generator=torch.Generator().manual_seed(42)\n",
        ")\n",
        "\n",
        "# 2. DataLoaders\n",
        "dl_vtrain = DataLoader(video_train, batch_size=16, shuffle=True, num_workers=0)\n",
        "dl_vval   = DataLoader(video_val,   batch_size=16, shuffle=False, num_workers=0)\n",
        "dl_vtest  = DataLoader(video_test,  batch_size=16, shuffle=False, num_workers=0)\n",
        "\n"
      ]
    },
    {
      "cell_type": "markdown",
      "id": "9f715fcd",
      "metadata": {
        "id": "9f715fcd"
      },
      "source": [
        "## 5. Implementación\n",
        "- Framework: **PyTorch**\n",
        "- Semilla de reproducibilidad: `42`\n",
        "- Enlace a notebook/Colab: <colab_link>\n",
        "\n",
        "Describe cualquier optimización o técnica especial (e.g., *gradient clipping*, *mixed precision*, *early stopping*)."
      ]
    },
    {
      "cell_type": "markdown",
      "id": "6c007b95",
      "metadata": {},
      "source": [
        "## Entrenamiento de imagenes estaticas"
      ]
    },
    {
      "cell_type": "code",
      "execution_count": 8,
      "id": "0a15e6dc",
      "metadata": {},
      "outputs": [
        {
          "name": "stderr",
          "output_type": "stream",
          "text": [
            "Epoch 01: 100%|██████████| 1041/1041 [14:26<00:00,  1.20batch/s, loss=0.00117] \n"
          ]
        },
        {
          "name": "stdout",
          "output_type": "stream",
          "text": [
            "📊 Epoch 01 | train_loss=0.0694 | val_loss=0.0010 | val_acc=1.000\n"
          ]
        },
        {
          "name": "stderr",
          "output_type": "stream",
          "text": [
            "Epoch 02: 100%|██████████| 1041/1041 [13:22<00:00,  1.30batch/s, loss=0.00422] \n"
          ]
        },
        {
          "name": "stdout",
          "output_type": "stream",
          "text": [
            "📊 Epoch 02 | train_loss=0.0083 | val_loss=0.0084 | val_acc=0.998\n"
          ]
        },
        {
          "name": "stderr",
          "output_type": "stream",
          "text": [
            "Epoch 03: 100%|██████████| 1041/1041 [16:58<00:00,  1.02batch/s, loss=0.0288]  \n"
          ]
        },
        {
          "name": "stdout",
          "output_type": "stream",
          "text": [
            "📊 Epoch 03 | train_loss=0.0051 | val_loss=0.0001 | val_acc=1.000\n"
          ]
        },
        {
          "name": "stderr",
          "output_type": "stream",
          "text": [
            "Epoch 04: 100%|██████████| 1041/1041 [08:02<00:00,  2.16batch/s, loss=6.6e-5]  \n"
          ]
        },
        {
          "name": "stdout",
          "output_type": "stream",
          "text": [
            "📊 Epoch 04 | train_loss=0.0036 | val_loss=0.0000 | val_acc=1.000\n"
          ]
        },
        {
          "name": "stderr",
          "output_type": "stream",
          "text": [
            "Epoch 05: 100%|██████████| 1041/1041 [07:21<00:00,  2.36batch/s, loss=0.00362] \n"
          ]
        },
        {
          "name": "stdout",
          "output_type": "stream",
          "text": [
            "📊 Epoch 05 | train_loss=0.0043 | val_loss=0.0005 | val_acc=1.000\n"
          ]
        },
        {
          "name": "stderr",
          "output_type": "stream",
          "text": [
            "Epoch 06: 100%|██████████| 1041/1041 [04:45<00:00,  3.64batch/s, loss=0.000199]\n"
          ]
        },
        {
          "name": "stdout",
          "output_type": "stream",
          "text": [
            "📊 Epoch 06 | train_loss=0.0016 | val_loss=0.0001 | val_acc=1.000\n"
          ]
        },
        {
          "name": "stderr",
          "output_type": "stream",
          "text": [
            "Epoch 07: 100%|██████████| 1041/1041 [04:38<00:00,  3.73batch/s, loss=0.00257] \n"
          ]
        },
        {
          "name": "stdout",
          "output_type": "stream",
          "text": [
            "📊 Epoch 07 | train_loss=0.0013 | val_loss=0.0177 | val_acc=0.995\n"
          ]
        },
        {
          "name": "stderr",
          "output_type": "stream",
          "text": [
            "Epoch 08: 100%|██████████| 1041/1041 [06:36<00:00,  2.62batch/s, loss=7.38e-5] \n"
          ]
        },
        {
          "name": "stdout",
          "output_type": "stream",
          "text": [
            "📊 Epoch 08 | train_loss=0.0051 | val_loss=0.0000 | val_acc=1.000\n"
          ]
        },
        {
          "name": "stderr",
          "output_type": "stream",
          "text": [
            "Epoch 09: 100%|██████████| 1041/1041 [04:37<00:00,  3.76batch/s, loss=0.000561]\n"
          ]
        },
        {
          "name": "stdout",
          "output_type": "stream",
          "text": [
            "📊 Epoch 09 | train_loss=0.0024 | val_loss=0.0040 | val_acc=0.998\n"
          ]
        },
        {
          "name": "stderr",
          "output_type": "stream",
          "text": [
            "Epoch 10: 100%|██████████| 1041/1041 [12:16<00:00,  1.41batch/s, loss=0.00187] \n"
          ]
        },
        {
          "name": "stdout",
          "output_type": "stream",
          "text": [
            "📊 Epoch 10 | train_loss=0.0023 | val_loss=0.0432 | val_acc=0.988\n"
          ]
        }
      ],
      "source": [
        "from tqdm import tqdm\n",
        "import torch.nn.functional as F\n",
        "\n",
        "criterion = nn.CrossEntropyLoss()\n",
        "optimizer = torch.optim.Adam(model_img.parameters(), lr=1e-4)\n",
        "\n",
        "for epoch in range(10):\n",
        "    model_img.train()\n",
        "    running_loss = 0\n",
        "    pbar = tqdm(dl_train, desc=f\"Epoch {epoch+1:02d}\", unit=\"batch\")\n",
        "\n",
        "    for imgs, labels in pbar:\n",
        "        imgs, labels = imgs.to(device), labels.to(device)\n",
        "        optimizer.zero_grad()\n",
        "        out = model_img(imgs)\n",
        "        loss = criterion(out, labels)\n",
        "        loss.backward()\n",
        "        optimizer.step()\n",
        "        running_loss += loss.item() * imgs.size(0)\n",
        "\n",
        "        pbar.set_postfix(loss=loss.item())\n",
        "\n",
        "    # Validación\n",
        "    model_img.eval()\n",
        "    val_loss, correct, total = 0, 0, 0\n",
        "    with torch.no_grad():\n",
        "        for imgs, labels in dl_val:\n",
        "            imgs, labels = imgs.to(device), labels.to(device)\n",
        "            out = model_img(imgs)\n",
        "            val_loss += criterion(out, labels).item() * imgs.size(0)\n",
        "            pred = out.argmax(1)\n",
        "            correct += (pred == labels).sum().item()\n",
        "            total += labels.size(0)\n",
        "\n",
        "    print(f\"📊 Epoch {epoch+1:02d} | train_loss={running_loss/len(train_s):.4f} | \"\n",
        "          f\"val_loss={val_loss/len(val_s):.4f} | val_acc={correct/total:.3f}\")\n"
      ]
    },
    {
      "cell_type": "code",
      "execution_count": 34,
      "id": "02ccef19",
      "metadata": {},
      "outputs": [
        {
          "name": "stderr",
          "output_type": "stream",
          "text": [
            "c:\\Users\\User\\Documents\\ML\\venv\\Lib\\site-packages\\torch\\optim\\lr_scheduler.py:62: UserWarning: The verbose parameter is deprecated. Please use get_last_lr() to access the learning rate.\n",
            "  warnings.warn(\n",
            "VidGRU 01: 100%|██████████| 31/31 [07:51<00:00, 15.20s/batch, loss=3.4] \n"
          ]
        },
        {
          "name": "stdout",
          "output_type": "stream",
          "text": [
            "📈 epoch 01  train_loss=3.1841  val_loss=2.9528  val_acc=0.403\n"
          ]
        },
        {
          "name": "stderr",
          "output_type": "stream",
          "text": [
            "VidGRU 02: 100%|██████████| 31/31 [07:17<00:00, 14.13s/batch, loss=2.25]\n"
          ]
        },
        {
          "name": "stdout",
          "output_type": "stream",
          "text": [
            "📈 epoch 02  train_loss=2.5653  val_loss=2.2694  val_acc=0.500\n"
          ]
        },
        {
          "name": "stderr",
          "output_type": "stream",
          "text": [
            "VidGRU 03: 100%|██████████| 31/31 [07:19<00:00, 14.19s/batch, loss=1.82]\n"
          ]
        },
        {
          "name": "stdout",
          "output_type": "stream",
          "text": [
            "📈 epoch 03  train_loss=2.0521  val_loss=1.7124  val_acc=0.565\n"
          ]
        },
        {
          "name": "stderr",
          "output_type": "stream",
          "text": [
            "VidGRU 04: 100%|██████████| 31/31 [07:40<00:00, 14.84s/batch, loss=1.29] \n"
          ]
        },
        {
          "name": "stdout",
          "output_type": "stream",
          "text": [
            "📈 epoch 04  train_loss=1.6545  val_loss=1.2151  val_acc=0.694\n"
          ]
        },
        {
          "name": "stderr",
          "output_type": "stream",
          "text": [
            "VidGRU 05: 100%|██████████| 31/31 [07:19<00:00, 14.18s/batch, loss=1.03] \n"
          ]
        },
        {
          "name": "stdout",
          "output_type": "stream",
          "text": [
            "📈 epoch 05  train_loss=1.3097  val_loss=0.9462  val_acc=0.758\n"
          ]
        },
        {
          "name": "stderr",
          "output_type": "stream",
          "text": [
            "VidGRU 06: 100%|██████████| 31/31 [07:38<00:00, 14.80s/batch, loss=0.665]\n"
          ]
        },
        {
          "name": "stdout",
          "output_type": "stream",
          "text": [
            "📈 epoch 06  train_loss=1.2046  val_loss=1.0173  val_acc=0.710\n"
          ]
        },
        {
          "name": "stderr",
          "output_type": "stream",
          "text": [
            "VidGRU 07: 100%|██████████| 31/31 [07:01<00:00, 13.60s/batch, loss=1.03] \n"
          ]
        },
        {
          "name": "stdout",
          "output_type": "stream",
          "text": [
            "📈 epoch 07  train_loss=1.0046  val_loss=0.6567  val_acc=0.871\n"
          ]
        },
        {
          "name": "stderr",
          "output_type": "stream",
          "text": [
            "VidGRU 08: 100%|██████████| 31/31 [06:54<00:00, 13.37s/batch, loss=1.31] \n"
          ]
        },
        {
          "name": "stdout",
          "output_type": "stream",
          "text": [
            "📈 epoch 08  train_loss=0.9285  val_loss=0.6288  val_acc=0.855\n"
          ]
        },
        {
          "name": "stderr",
          "output_type": "stream",
          "text": [
            "VidGRU 09: 100%|██████████| 31/31 [07:42<00:00, 14.92s/batch, loss=1.04] \n"
          ]
        },
        {
          "name": "stdout",
          "output_type": "stream",
          "text": [
            "📈 epoch 09  train_loss=0.8393  val_loss=0.7406  val_acc=0.726\n"
          ]
        },
        {
          "name": "stderr",
          "output_type": "stream",
          "text": [
            "VidGRU 10: 100%|██████████| 31/31 [07:27<00:00, 14.43s/batch, loss=0.532]\n"
          ]
        },
        {
          "name": "stdout",
          "output_type": "stream",
          "text": [
            "📈 epoch 10  train_loss=0.7866  val_loss=0.5067  val_acc=0.887\n"
          ]
        },
        {
          "name": "stderr",
          "output_type": "stream",
          "text": [
            "VidGRU 11: 100%|██████████| 31/31 [07:10<00:00, 13.88s/batch, loss=0.885]\n"
          ]
        },
        {
          "name": "stdout",
          "output_type": "stream",
          "text": [
            "📈 epoch 11  train_loss=0.6713  val_loss=0.4495  val_acc=0.855\n"
          ]
        },
        {
          "name": "stderr",
          "output_type": "stream",
          "text": [
            "VidGRU 12: 100%|██████████| 31/31 [07:18<00:00, 14.15s/batch, loss=0.666]\n"
          ]
        },
        {
          "name": "stdout",
          "output_type": "stream",
          "text": [
            "📈 epoch 12  train_loss=0.6464  val_loss=0.5266  val_acc=0.823\n"
          ]
        },
        {
          "name": "stderr",
          "output_type": "stream",
          "text": [
            "VidGRU 13: 100%|██████████| 31/31 [07:34<00:00, 14.66s/batch, loss=0.729]\n"
          ]
        },
        {
          "name": "stdout",
          "output_type": "stream",
          "text": [
            "📈 epoch 13  train_loss=0.5706  val_loss=0.4541  val_acc=0.839\n"
          ]
        },
        {
          "name": "stderr",
          "output_type": "stream",
          "text": [
            "VidGRU 14: 100%|██████████| 31/31 [07:18<00:00, 14.16s/batch, loss=0.513]\n"
          ]
        },
        {
          "name": "stdout",
          "output_type": "stream",
          "text": [
            "📈 epoch 14  train_loss=0.5172  val_loss=0.5731  val_acc=0.774\n"
          ]
        },
        {
          "name": "stderr",
          "output_type": "stream",
          "text": [
            "VidGRU 15: 100%|██████████| 31/31 [07:22<00:00, 14.28s/batch, loss=0.446]\n"
          ]
        },
        {
          "name": "stdout",
          "output_type": "stream",
          "text": [
            "📈 epoch 15  train_loss=0.4628  val_loss=0.4168  val_acc=0.839\n"
          ]
        },
        {
          "name": "stderr",
          "output_type": "stream",
          "text": [
            "VidGRU 16: 100%|██████████| 31/31 [07:10<00:00, 13.87s/batch, loss=0.57] \n"
          ]
        },
        {
          "name": "stdout",
          "output_type": "stream",
          "text": [
            "📈 epoch 16  train_loss=0.4396  val_loss=0.3984  val_acc=0.855\n"
          ]
        },
        {
          "name": "stderr",
          "output_type": "stream",
          "text": [
            "VidGRU 17: 100%|██████████| 31/31 [07:09<00:00, 13.87s/batch, loss=0.466]\n"
          ]
        },
        {
          "name": "stdout",
          "output_type": "stream",
          "text": [
            "📈 epoch 17  train_loss=0.3925  val_loss=0.4663  val_acc=0.806\n"
          ]
        },
        {
          "name": "stderr",
          "output_type": "stream",
          "text": [
            "VidGRU 18: 100%|██████████| 31/31 [19:55<00:00, 38.56s/batch, loss=0.294] \n"
          ]
        },
        {
          "name": "stdout",
          "output_type": "stream",
          "text": [
            "📈 epoch 18  train_loss=0.3688  val_loss=0.3159  val_acc=0.919\n"
          ]
        },
        {
          "name": "stderr",
          "output_type": "stream",
          "text": [
            "VidGRU 19: 100%|██████████| 31/31 [07:27<00:00, 14.44s/batch, loss=0.283] \n"
          ]
        },
        {
          "name": "stdout",
          "output_type": "stream",
          "text": [
            "📈 epoch 19  train_loss=0.3367  val_loss=0.3509  val_acc=0.855\n"
          ]
        },
        {
          "name": "stderr",
          "output_type": "stream",
          "text": [
            "VidGRU 20: 100%|██████████| 31/31 [07:11<00:00, 13.92s/batch, loss=0.266]\n"
          ]
        },
        {
          "name": "stdout",
          "output_type": "stream",
          "text": [
            "📈 epoch 20  train_loss=0.3321  val_loss=0.3274  val_acc=0.871\n"
          ]
        },
        {
          "name": "stderr",
          "output_type": "stream",
          "text": [
            "VidGRU 21: 100%|██████████| 31/31 [07:12<00:00, 13.95s/batch, loss=0.229]\n"
          ]
        },
        {
          "name": "stdout",
          "output_type": "stream",
          "text": [
            "📈 epoch 21  train_loss=0.3970  val_loss=0.4186  val_acc=0.839\n"
          ]
        },
        {
          "name": "stderr",
          "output_type": "stream",
          "text": [
            "VidGRU 22: 100%|██████████| 31/31 [07:04<00:00, 13.71s/batch, loss=0.172]\n"
          ]
        },
        {
          "name": "stdout",
          "output_type": "stream",
          "text": [
            "📈 epoch 22  train_loss=0.3039  val_loss=0.3457  val_acc=0.855\n"
          ]
        },
        {
          "name": "stderr",
          "output_type": "stream",
          "text": [
            "VidGRU 23: 100%|██████████| 31/31 [34:58<00:00, 67.71s/batch, loss=0.35]   \n"
          ]
        },
        {
          "name": "stdout",
          "output_type": "stream",
          "text": [
            "📈 epoch 23  train_loss=0.3064  val_loss=0.3620  val_acc=0.855\n"
          ]
        },
        {
          "name": "stderr",
          "output_type": "stream",
          "text": [
            "VidGRU 24: 100%|██████████| 31/31 [07:06<00:00, 13.76s/batch, loss=0.178]\n"
          ]
        },
        {
          "name": "stdout",
          "output_type": "stream",
          "text": [
            "📈 epoch 24  train_loss=0.2968  val_loss=0.3075  val_acc=0.871\n"
          ]
        },
        {
          "name": "stderr",
          "output_type": "stream",
          "text": [
            "VidGRU 25: 100%|██████████| 31/31 [07:03<00:00, 13.67s/batch, loss=0.166] \n"
          ]
        },
        {
          "name": "stdout",
          "output_type": "stream",
          "text": [
            "📈 epoch 25  train_loss=0.2745  val_loss=0.3166  val_acc=0.855\n"
          ]
        }
      ],
      "source": [
        "from tqdm import tqdm\n",
        "import torch.nn as nn\n",
        "import torch\n",
        "\n",
        "class DynGRU(nn.Module):\n",
        "    \"\"\"\n",
        "    Entrada  : feats  (B, stacks, 512)\n",
        "    Salida   : logits (B, n_classes)\n",
        "    Proceso  : GRU bidireccional + dropout + capa densa\n",
        "    \"\"\"\n",
        "    def __init__(self, in_dim=512, hidden=256, n_layers=1,\n",
        "                 n_classes=n_classes, dropout=0.3):\n",
        "        super().__init__()\n",
        "        self.gru = nn.GRU(\n",
        "            input_size=in_dim,\n",
        "            hidden_size=hidden,\n",
        "            num_layers=n_layers,\n",
        "            batch_first=True,\n",
        "            bidirectional=True,          # ← captura contexto al revés también\n",
        "            dropout=dropout if n_layers > 1 else 0.0\n",
        "        )\n",
        "        # Bidireccional duplica el hidden → 2*hidden\n",
        "        self.classifier = nn.Sequential(\n",
        "            nn.Dropout(dropout),\n",
        "            nn.Linear(2*hidden, 256),\n",
        "            nn.ReLU(),\n",
        "            nn.BatchNorm1d(256),\n",
        "            nn.Dropout(dropout),\n",
        "            nn.Linear(256, n_classes)\n",
        "        )\n",
        "\n",
        "    def forward(self, feats):            # (B, stacks, 512)  o  (B, 512)\n",
        "        if feats.dim() == 2:             # si ya viene pool\n",
        "            feats = feats.unsqueeze(1)   # (B,1,512) para no romper la GRU\n",
        "        _, h = self.gru(feats)           # h shape: (2*n_layers, B, hidden)\n",
        "        # Concatenamos estado final dir1+dir2\n",
        "        h_cat = torch.cat([h[-2], h[-1]], dim=1)   # (B, 2*hidden)\n",
        "        return self.classifier(h_cat)\n",
        "\n",
        "\n",
        "model_vid = DynGRU().to(device)\n",
        "\n",
        "opt_v       = torch.optim.Adam(model_vid.parameters(), lr=3e-4)\n",
        "scheduler   = torch.optim.lr_scheduler.ReduceLROnPlateau(\n",
        "                 opt_v, mode=\"min\", factor=0.5, patience=2, verbose=True)\n",
        "crit        = nn.CrossEntropyLoss()          # añade weight=class_weights si hace falta\n",
        "\n",
        "for epoch in range(25):                      # entrena más épocas; GRU converge rápido\n",
        "    model_vid.train()\n",
        "    running = 0\n",
        "    pbar = tqdm(dl_vtrain, desc=f\"VidGRU {epoch+1:02d}\", unit=\"batch\")\n",
        "\n",
        "    for feats, labels in pbar:\n",
        "        feats, labels = feats.to(device), labels.to(device)\n",
        "        opt_v.zero_grad()\n",
        "        out  = model_vid(feats)\n",
        "        loss = crit(out, labels)\n",
        "        \n",
        "        loss.backward()\n",
        "        opt_v.step()\n",
        "        running += loss.item() * feats.size(0)\n",
        "        pbar.set_postfix(loss=loss.item())\n",
        "\n",
        "    # validación\n",
        "    model_vid.eval()\n",
        "    v_loss = corr = tot = 0\n",
        "    with torch.no_grad():\n",
        "        for feats, labels in dl_vval:\n",
        "            feats, labels = feats.to(device), labels.to(device)\n",
        "            out = model_vid(feats)\n",
        "            v_loss += crit(out, labels).item() * feats.size(0)\n",
        "            pred = out.argmax(1)\n",
        "            corr += (pred == labels).sum().item()\n",
        "            tot  += labels.size(0)\n",
        "\n",
        "    val_loss = v_loss / len(video_val)\n",
        "    val_acc  = corr / tot\n",
        "    scheduler.step(val_loss)                 # baja LR si se estanca\n",
        "\n",
        "    print(f\"📈 epoch {epoch+1:02d}  \"\n",
        "          f\"train_loss={running/len(video_train):.4f}  \"\n",
        "          f\"val_loss={val_loss:.4f}  val_acc={val_acc:.3f}\")\n"
      ]
    },
    {
      "cell_type": "code",
      "execution_count": null,
      "id": "db76bab1",
      "metadata": {},
      "outputs": [
        {
          "name": "stdout",
          "output_type": "stream",
          "text": [
            "✅ Pesos y diccionario guardados en C:\\Users\\User\\Documents\\ML\\checkpoints\n"
          ]
        }
      ],
      "source": [
        "import torch, json, pathlib\n",
        "\n",
        "ckpt_dir = pathlib.Path(\"checkpoints\")\n",
        "ckpt_dir.mkdir(exist_ok=True)\n",
        "\n",
        "# 1️⃣  modelo de imágenes (ResNet-18 adaptado)\n",
        "torch.save(model_img.state_dict(), ckpt_dir / \"resnet18_letters.pt\")\n",
        "\n",
        "# 2️⃣  modelo de vídeos (GRU que acabas de entrenar)\n",
        "torch.save(model_vid.state_dict(), ckpt_dir / \"gru_letters.pt\")\n",
        "\n",
        "# 3️⃣  opcional: diccionario letra → índice para reproducir entrenamientos\n",
        "with open(ckpt_dir / \"class_to_idx.json\", \"w\", encoding=\"utf-8\") as f:\n",
        "    json.dump(class_to_idx, f, indent=2, ensure_ascii=False)\n",
        "\n",
        "print(\"✅ Pesos y diccionario guardados en\", ckpt_dir.resolve())\n",
        "\n",
        "#para cargar los pesos y el diccionario:\n",
        "'''\n",
        "device = \"cuda\" if torch.cuda.is_available() else \"cpu\"\n",
        "\n",
        "# --- cargar diccionario ---\n",
        "with open(\"checkpoints/class_to_idx.json\", \"r\", encoding=\"utf-8\") as f:\n",
        "    class_to_idx = json.load(f)\n",
        "n_classes = len(class_to_idx)\n",
        "\n",
        "# --- cargar modelo de imágenes ---\n",
        "model_img = models.resnet18(weights=None)\n",
        "model_img.fc = torch.nn.Linear(model_img.fc.in_features, n_classes)\n",
        "model_img.load_state_dict(torch.load(\"checkpoints/resnet18_letters.pt\", map_location=device))\n",
        "model_img.to(device).eval()\n",
        "\n",
        "# --- cargar modelo de vídeos ---\n",
        "model_vid = DynGRU(n_classes=n_classes).to(device)\n",
        "model_vid.load_state_dict(torch.load(\"checkpoints/gru_letters.pt\", map_location=device))\n",
        "model_vid.eval() '''"
      ]
    },
    {
      "cell_type": "markdown",
      "id": "3fdb8f75",
      "metadata": {
        "id": "3fdb8f75"
      },
      "source": [
        "## 6. Experimentación\n",
        "Presenta las configuraciones de entrenamiento y resultados. Usa tablas o gráficos (matplotlib) para loss y accuracy por época."
      ]
    },
    {
      "cell_type": "code",
      "execution_count": 35,
      "id": "0dcf4071",
      "metadata": {
        "id": "0dcf4071"
      },
      "outputs": [
        {
          "name": "stdout",
          "output_type": "stream",
          "text": [
            "Predicción imagen: G\n"
          ]
        }
      ],
      "source": [
        "img_path = \"data/letters/statics/G/S14-G-4-19.jpg\"\n",
        "img = tfm(Image.open(img_path).convert(\"RGB\")).unsqueeze(0).to(device)\n",
        "pred = model_img(img).argmax(1).item()\n",
        "print(\"Predicción imagen:\", list(class_to_idx.keys())[pred])"
      ]
    },
    {
      "cell_type": "code",
      "execution_count": 48,
      "id": "197efbe3",
      "metadata": {},
      "outputs": [
        {
          "name": "stdout",
          "output_type": "stream",
          "text": [
            "Predicción vídeo : Z\n"
          ]
        }
      ],
      "source": [
        "vid = \"data/letters/dynamics/Z/S1-Z-perfil-3.mp4\"\n",
        "feats = extractor.extract(vid)[\"r21d\"]          # (stacks,512)\n",
        "out = model_vid(torch.tensor(feats, dtype=torch.float32).unsqueeze(0).to(device))\n",
        "pred = out.argmax(1).item()\n",
        "print(\"Predicción vídeo :\", list(class_to_idx.keys())[pred])"
      ]
    },
    {
      "cell_type": "code",
      "execution_count": 50,
      "id": "745b1c95",
      "metadata": {},
      "outputs": [
        {
          "name": "stdout",
          "output_type": "stream",
          "text": [
            "\n",
            "[STATIC]  accuracy=0.989  macro-F1=0.989\n",
            "Matriz de confusión guardada en  static_confusion.csv\n",
            "Métricas guardadas en            static_metrics.json\n",
            "\n",
            "[DYNAMIC]  accuracy=0.919  macro-F1=0.923\n",
            "Matriz de confusión guardada en  dynamic_confusion.csv\n",
            "Métricas guardadas en            dynamic_metrics.json\n"
          ]
        }
      ],
      "source": [
        "from sklearn.metrics import accuracy_score, f1_score, confusion_matrix\n",
        "import json, pandas as pd\n",
        "import torch\n",
        "\n",
        "def eval_model(model, dataloader, name):\n",
        "    model.eval()\n",
        "    all_preds, all_labels = [], []\n",
        "\n",
        "    with torch.no_grad():\n",
        "        for X, y in dataloader:\n",
        "            X, y = X.to(device), y.to(device)\n",
        "\n",
        "            if X.dim() == 3:          # vídeos → (B, stacks, 512)\n",
        "                out = model(X)        # DynClassifier\n",
        "            else:                     # imágenes → (B, 3, 112, 112)\n",
        "                out = model(X)        # ResNet18\n",
        "\n",
        "            preds = out.argmax(1)\n",
        "            all_preds.extend(preds.cpu().numpy())\n",
        "            all_labels.extend(y.cpu().numpy())\n",
        "\n",
        "    acc = accuracy_score(all_labels, all_preds)\n",
        "    f1  = f1_score(all_labels, all_preds, average=\"macro\")\n",
        "    cm  = confusion_matrix(all_labels, all_preds)\n",
        "\n",
        "    # ----- guardar -----\n",
        "    metrics_path = f\"{name}_metrics.json\"\n",
        "    conf_path    = f\"{name}_confusion.csv\"\n",
        "\n",
        "    with open(metrics_path, \"w\") as fp:\n",
        "        json.dump({\"accuracy\": acc, \"macro_f1\": f1}, fp, indent=2)\n",
        "\n",
        "    pd.DataFrame(cm, dtype=int).to_csv(conf_path, index=False, header=False)\n",
        "\n",
        "    print(f\"\\n[{name.upper()}]  accuracy={acc:.3f}  macro-F1={f1:.3f}\")\n",
        "    print(f\"Matriz de confusión guardada en  {conf_path}\")\n",
        "    print(f\"Métricas guardadas en            {metrics_path}\")\n",
        "\n",
        "# --------- evaluación -----------\n",
        "eval_model(model_img, dl_test,  \"static\")     # imágenes\n",
        "eval_model(model_vid, dl_vtest, \"dynamic\")    # vídeos\n"
      ]
    },
    {
      "cell_type": "code",
      "execution_count": 62,
      "id": "dd99d40e",
      "metadata": {},
      "outputs": [
        {
          "name": "stdout",
          "output_type": "stream",
          "text": [
            "Palabra detectada: ABABABAB\n",
            "Secuencia cruda  : ['A', 'A', 'A', 'A', 'B', 'A', 'A', 'B', 'B', 'B', 'A', 'A', 'A', 'A', 'A', 'A', 'A', 'B', 'A', 'B', 'B', 'B', 'B', 'B']\n"
          ]
        }
      ],
      "source": [
        "import cv2, os, torch, numpy as np\n",
        "from torchvision.io import read_video\n",
        "from torchvision.transforms.functional import to_pil_image\n",
        "\n",
        "idx_to_class = {v: k for k, v in class_to_idx.items()}\n",
        "model_img.eval()\n",
        "model_vid.eval()\n",
        "\n",
        "\n",
        "def ensure_hwc(t):\n",
        "    \"\"\"\n",
        "    Hace que el tensor sea (H, W, C) con C <= 4.\n",
        "    Funciona para (H,W,C), (C,H,W) y (H,C,W).\n",
        "    \"\"\"\n",
        "    if t.ndim != 3:\n",
        "        raise ValueError(f\"Frame debe ser 3-D, got {tuple(t.shape)}\")\n",
        "\n",
        "    # localiza el eje con 1,3 ó 4 canales\n",
        "    chan_axis = None\n",
        "    for ax, size in enumerate(t.shape):\n",
        "        if size in {1, 3, 4}:\n",
        "            chan_axis = ax\n",
        "            break\n",
        "    if chan_axis is None:\n",
        "        raise ValueError(f\"No se encuentra eje de canales en {tuple(t.shape)}\")\n",
        "\n",
        "    # construye permutación para poner ese eje al final\n",
        "    if chan_axis == 2:          # ya está (H,W,C)\n",
        "        return t\n",
        "    order = [ax for ax in range(3) if ax != chan_axis] + [chan_axis]\n",
        "    return t.permute(*order)\n",
        "\n",
        "\n",
        "\n",
        "def reencode_to_fps(src_path, out_tmp=\"tmp_norm.mp4\", target_fps=30):\n",
        "    if os.path.exists(out_tmp):\n",
        "        os.remove(out_tmp)\n",
        "    os.system(f'ffmpeg -y -hide_banner -loglevel error -i \"{src_path}\" '\n",
        "              f'-filter:v fps=fps={target_fps} \"{out_tmp}\"')\n",
        "    return out_tmp\n",
        "\n",
        "def sliding_windows(total_frames, win, step):\n",
        "    i = 0\n",
        "    while i + win <= total_frames:\n",
        "        yield i, i + win\n",
        "        i += step\n",
        "\n",
        "@torch.no_grad()\n",
        "def classify_window(clip_tensor, frame_tensor):\n",
        "    \"\"\"Devuelve (best_letter, best_prob)\"\"\"\n",
        "    # --- dinámico ---\n",
        "    vec = extractor.name2module['model'](clip_tensor.to(device))  # (1,512)\n",
        "    logit_dyn = model_vid(vec).softmax(1).squeeze(0)              # (C,)\n",
        "\n",
        "    # --- estático ---\n",
        "    logit_img = model_img(frame_tensor.to(device).unsqueeze(0)).softmax(1).squeeze(0)\n",
        "\n",
        "    # --- fusión simple: elegimos el max global ---\n",
        "    probs = torch.stack([logit_dyn, logit_img])                   # (2,C)\n",
        "    best_prob, best_idx = probs.max(1)[0].max(0)\n",
        "    best_letter = idx_to_class[best_idx.item()]\n",
        "    return best_letter, best_prob.item()\n",
        "\n",
        "def video_to_word_mixed(video_path, win_sec=0.8, step_sec=0.4,\n",
        "                        fps=30, prob_thr=0.4):\n",
        "    tmp = reencode_to_fps(video_path, target_fps=fps)\n",
        "    rgb, _, _ = read_video(tmp, pts_unit=\"sec\")     # (T,H,W,3)\n",
        "    total = rgb.shape[0]\n",
        "    win   = int(win_sec * fps)\n",
        "    step  = int(step_sec * fps)\n",
        "\n",
        "    letters = []\n",
        "    for s, e in sliding_windows(total, win, step):\n",
        "        clip = rgb[s:e]                             # (win,H,W,3)\n",
        "        if clip.shape[0] != win:                    # vídeo muy corto\n",
        "            continue\n",
        "\n",
        "        # clip_tensor → (1,3,win,H,W)\n",
        "        clip_t = extractor.transforms(clip).unsqueeze(0)\n",
        "\n",
        "        # frame central a PIL → tfm → tensor (3,112,112)\n",
        "        mid = s + win // 2\n",
        "        frame = ensure_hwc(rgb[mid])\n",
        "        frame_np = frame.byte().cpu().numpy()  # Ensure numpy array (H, W, C)\n",
        "        frame_pil = to_pil_image(frame_np)\n",
        "        frame_t   = tfm(frame_pil).to(device)\n",
        "\n",
        "        letter, prob = classify_window(clip_t, frame_t)\n",
        "        if prob >= prob_thr:\n",
        "            letters.append(letter)\n",
        "\n",
        "    # quitar repetidos consecutivos\n",
        "    word = [letters[0]] if letters else []\n",
        "    for l in letters[1:]:\n",
        "        if l != word[-1]:\n",
        "            word.append(l)\n",
        "    return \"\".join(word), letters\n",
        "\n",
        "# ---------- uso ----------\n",
        "video = \"video_prueba2.mp4\"\n",
        "palabra, secuencia = video_to_word_mixed(video)\n",
        "print(\"Palabra detectada:\", palabra)\n",
        "print(\"Secuencia cruda  :\", secuencia)\n",
        "\n"
      ]
    },
    {
      "cell_type": "markdown",
      "id": "a7421b08",
      "metadata": {
        "id": "a7421b08"
      },
      "source": [
        "## 7. Discusión\n",
        "Analiza los resultados: ¿qué patrones encuentras? ¿Qué gestos resultaron difíciles? ¿Cómo influyó la iluminación o el background?"
      ]
    },
    {
      "cell_type": "markdown",
      "id": "d4859993",
      "metadata": {
        "id": "d4859993"
      },
      "source": [
        "## 8. Conclusiones\n",
        "Resume los hallazgos más relevantes y menciona posibles mejoras futuras."
      ]
    },
    {
      "cell_type": "markdown",
      "id": "88596832",
      "metadata": {
        "id": "88596832"
      },
      "source": [
        "## 9. Declaración de Contribución\n",
        "Describe el aporte de cada miembro del equipo con porcentajes de tiempo/actividad."
      ]
    }
  ],
  "metadata": {
    "colab": {
      "include_colab_link": true,
      "provenance": []
    },
    "kernelspec": {
      "display_name": "venv",
      "language": "python",
      "name": "python3"
    },
    "language_info": {
      "codemirror_mode": {
        "name": "ipython",
        "version": 3
      },
      "file_extension": ".py",
      "mimetype": "text/x-python",
      "name": "python",
      "nbconvert_exporter": "python",
      "pygments_lexer": "ipython3",
      "version": "3.12.7"
    }
  },
  "nbformat": 4,
  "nbformat_minor": 5
}
